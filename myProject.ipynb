{
 "cells": [
  {
   "cell_type": "markdown",
   "metadata": {},
   "source": [
    "import the created files"
   ]
  },
  {
   "cell_type": "code",
   "execution_count": 1,
   "metadata": {},
   "outputs": [],
   "source": [
    "from get_data import get_data\n",
    "from classifier import get_model\n"
   ]
  },
  {
   "cell_type": "markdown",
   "metadata": {},
   "source": [
    "get the data, model and vectorizer"
   ]
  },
  {
   "cell_type": "code",
   "execution_count": 4,
   "metadata": {},
   "outputs": [
    {
     "name": "stdout",
     "output_type": "stream",
     "text": [
      "generated model has 0.8484848484848485 accuracy\n",
      "<class 'sklearn.feature_extraction.text.CountVectorizer'>\n"
     ]
    }
   ],
   "source": [
    "sources = [\"https://www.haaretz.com/\", \"https://www.israelhayom.com/\"]\n",
    "get_data(sources)\n",
    "test_size = 0.18 # gave the best results\n",
    "model, vectorizer = get_model(test_size)\n"
   ]
  },
  {
   "cell_type": "markdown",
   "metadata": {},
   "source": [
    "now predict using model"
   ]
  },
  {
   "cell_type": "code",
   "execution_count": null,
   "metadata": {},
   "outputs": [
    {
     "name": "stdout",
     "output_type": "stream",
     "text": [
      "  (0, 326)\t1\n",
      "  (0, 361)\t1\n",
      "  (0, 478)\t2\n",
      "  (0, 629)\t1\n",
      "  (0, 772)\t1\n",
      "  (0, 776)\t1\n",
      "  (0, 789)\t1\n",
      "the title is most likely from Haaretz\n"
     ]
    }
   ],
   "source": [
    "headline = input()\n",
    "headline_v = vectorizer.transform([headline])\n",
    "result = model.predict(headline_v)\n",
    "print(f\"the title is most likely from {'Haaretz' if result == 0 else 'Israel Hayom'}\")"
   ]
  }
 ],
 "metadata": {
  "kernelspec": {
   "display_name": "Python 3",
   "language": "python",
   "name": "python3"
  },
  "language_info": {
   "codemirror_mode": {
    "name": "ipython",
    "version": 3
   },
   "file_extension": ".py",
   "mimetype": "text/x-python",
   "name": "python",
   "nbconvert_exporter": "python",
   "pygments_lexer": "ipython3",
   "version": "3.9.7"
  }
 },
 "nbformat": 4,
 "nbformat_minor": 2
}
